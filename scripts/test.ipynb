{
 "cells": [
  {
   "cell_type": "code",
   "execution_count": 1,
   "metadata": {},
   "outputs": [],
   "source": [
    "%load_ext autoreload\n",
    "%autoreload 2"
   ]
  },
  {
   "cell_type": "code",
   "execution_count": 2,
   "metadata": {},
   "outputs": [],
   "source": [
    "from pathlib import Path\n",
    "\n",
    "from upath import UPath\n",
    "\n",
    "import mbt"
   ]
  },
  {
   "cell_type": "code",
   "execution_count": 3,
   "metadata": {},
   "outputs": [
    {
     "name": "stdout",
     "output_type": "stream",
     "text": [
      "Time taken to read data: 1.5011980533599854 seconds\n"
     ]
    }
   ],
   "source": [
    "with mbt.MibiFile(Path(\"../data/other/fov-2-scan-1.bin\"), num_chunks=32) as f:\n",
    "    panel = f.panel\n",
    "    data = f.data"
   ]
  },
  {
   "cell_type": "code",
   "execution_count": 4,
   "metadata": {},
   "outputs": [
    {
     "data": {
      "application/vnd.jupyter.widget-view+json": {
       "model_id": "71c4b09425164b65ace0f36ca9dda8c9",
       "version_major": 2,
       "version_minor": 0
      },
      "text/plain": [
       "Generating counts image:   0%|          | 0/39 [00:00<?, ?group/s]"
      ]
     },
     "metadata": {},
     "output_type": "display_data"
    },
    {
     "data": {
      "application/vnd.jupyter.widget-view+json": {
       "model_id": "22240f685366491f979da9d9d35da95c",
       "version_major": 2,
       "version_minor": 0
      },
      "text/plain": [
       "Generating intensity image:   0%|          | 0/39 [00:00<?, ?group/s]"
      ]
     },
     "metadata": {},
     "output_type": "display_data"
    },
    {
     "data": {
      "application/vnd.jupyter.widget-view+json": {
       "model_id": "2a17e6aec5e547acbf2eebbf450e66cd",
       "version_major": 2,
       "version_minor": 0
      },
      "text/plain": [
       "Generating intensity_width image:   0%|          | 0/39 [00:00<?, ?group/s]"
      ]
     },
     "metadata": {},
     "output_type": "display_data"
    },
    {
     "name": "stdout",
     "output_type": "stream",
     "text": [
      "Storage Chunks: (1, 256, 256), Shard Shape: (39, 1024, 1024)\n"
     ]
    },
    {
     "name": "stderr",
     "output_type": "stream",
     "text": [
      "/Users/srivarra/Dev/Projects/Personal/mbt/.venv/lib/python3.12/site-packages/zarr/codecs/vlen_utf8.py:44: UserWarning: The codec `vlen-utf8` is currently not part in the Zarr format 3 specification. It may not be supported by other zarr implementations and may change in the future.\n",
      "  return cls(**configuration_parsed)\n",
      "/Users/srivarra/Dev/Projects/Personal/mbt/.venv/lib/python3.12/site-packages/zarr/core/array.py:4257: UserWarning: The dtype `<U14` is currently not part in the Zarr format 3 specification. It may not be supported by other zarr implementations and may change in the future.\n",
      "  meta = AsyncArray._create_metadata_v3(\n",
      "/Users/srivarra/Dev/Projects/Personal/mbt/.venv/lib/python3.12/site-packages/zarr/codecs/vlen_utf8.py:44: UserWarning: The codec `vlen-utf8` is currently not part in the Zarr format 3 specification. It may not be supported by other zarr implementations and may change in the future.\n",
      "  return cls(**configuration_parsed)\n",
      "/Users/srivarra/Dev/Projects/Personal/mbt/.venv/lib/python3.12/site-packages/zarr/api/asynchronous.py:205: UserWarning: Consolidated metadata is currently not part in the Zarr format 3 specification. It may not be supported by other zarr implementations and may change in the future.\n",
      "  warnings.warn(\n",
      "\u001b[32m2025-05-05 09:51:29.527\u001b[0m | \u001b[1mINFO    \u001b[0m | \u001b[36mmbt.io.zarr\u001b[0m:\u001b[36mwrite_dataset_to_zarr\u001b[0m:\u001b[36m217\u001b[0m - \u001b[1mDataset Zarr written to test/2022-07-04_NBL_TMA2/fov-2-R2C1.zarr.\u001b[0m\n"
     ]
    }
   ],
   "source": [
    "f.write_dataset_to_zarr(output_directory=UPath(\"test/\"), shard_shape=\"auto\")"
   ]
  },
  {
   "cell_type": "code",
   "execution_count": 5,
   "metadata": {},
   "outputs": [
    {
     "name": "stderr",
     "output_type": "stream",
     "text": [
      "\u001b[32m2025-05-05 09:51:44.160\u001b[0m | \u001b[1mINFO    \u001b[0m | \u001b[36mmbt.io.zarr\u001b[0m:\u001b[36mwrite_ome_zarr\u001b[0m:\u001b[36m316\u001b[0m - \u001b[1mOME-Zarr for 'counts' written to test2/2022-07-04_NBL_TMA2/fov-2-R2C1-counts.ome.zarr.\u001b[0m\n"
     ]
    }
   ],
   "source": [
    "f.write_ome_zarr(output_directory=UPath(\"test2/\"), image_type=[\"counts\"], chunks_per_shard=\"auto\")"
   ]
  },
  {
   "cell_type": "code",
   "execution_count": null,
   "metadata": {},
   "outputs": [],
   "source": [
    "f.data.collect().cast()"
   ]
  },
  {
   "cell_type": "code",
   "execution_count": 5,
   "metadata": {},
   "outputs": [],
   "source": [
    "import xarray as xr"
   ]
  },
  {
   "cell_type": "code",
   "execution_count": null,
   "metadata": {},
   "outputs": [],
   "source": [
    "xr.open_dataset(\"test.zarr\")"
   ]
  },
  {
   "cell_type": "code",
   "execution_count": null,
   "metadata": {},
   "outputs": [],
   "source": [
    "f.counts_image.coords[\"c\"].values.tolist()"
   ]
  },
  {
   "cell_type": "code",
   "execution_count": null,
   "metadata": {},
   "outputs": [],
   "source": [
    "import ngff_zarr\n",
    "\n",
    "ngff_zarr.from_ngff_zarr(\"./test2/2022-07-04_NBL_TMA2/fov-1-R13C3-counts.ome.zarr\")"
   ]
  },
  {
   "cell_type": "code",
   "execution_count": 8,
   "metadata": {},
   "outputs": [],
   "source": []
  },
  {
   "cell_type": "code",
   "execution_count": 13,
   "metadata": {},
   "outputs": [],
   "source": []
  },
  {
   "cell_type": "code",
   "execution_count": null,
   "metadata": {},
   "outputs": [],
   "source": [
    "f.data.collect().with_columns()"
   ]
  },
  {
   "cell_type": "code",
   "execution_count": 6,
   "metadata": {},
   "outputs": [],
   "source": [
    "import ngff_zarr as nz"
   ]
  },
  {
   "cell_type": "code",
   "execution_count": null,
   "metadata": {},
   "outputs": [],
   "source": [
    "nz"
   ]
  }
 ],
 "metadata": {
  "kernelspec": {
   "display_name": ".venv",
   "language": "python",
   "name": "python3"
  },
  "language_info": {
   "codemirror_mode": {
    "name": "ipython",
    "version": 3
   },
   "file_extension": ".py",
   "mimetype": "text/x-python",
   "name": "python",
   "nbconvert_exporter": "python",
   "pygments_lexer": "ipython3",
   "version": "3.12.5"
  }
 },
 "nbformat": 4,
 "nbformat_minor": 2
}
