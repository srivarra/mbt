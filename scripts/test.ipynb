{
 "cells": [
  {
   "cell_type": "code",
   "execution_count": 1,
   "metadata": {},
   "outputs": [],
   "source": [
    "from pathlib import Path\n",
    "\n",
    "from upath import UPath\n",
    "\n",
    "import mbt"
   ]
  },
  {
   "cell_type": "code",
   "execution_count": 2,
   "metadata": {},
   "outputs": [
    {
     "name": "stdout",
     "output_type": "stream",
     "text": [
      "Time taken to read data: 1.6670169830322266 seconds\n"
     ]
    }
   ],
   "source": [
    "with mbt.MibiFile(Path(\"../data/other/fov-2-scan-1.bin\"), num_chunks=16) as f:\n",
    "    panel = f.panel\n",
    "    data = f.data"
   ]
  },
  {
   "cell_type": "code",
   "execution_count": null,
   "metadata": {},
   "outputs": [],
   "source": [
    "f.write_dataset_to_zarr(output_directory=UPath(\"test/\"))"
   ]
  },
  {
   "cell_type": "code",
   "execution_count": null,
   "metadata": {},
   "outputs": [],
   "source": [
    "f.write_ome_zarr(output_directory=UPath(\"test2/\"), image_type=[\"counts\"])"
   ]
  },
  {
   "cell_type": "code",
   "execution_count": 3,
   "metadata": {},
   "outputs": [
    {
     "data": {
      "text/html": [
       "<div><style>\n",
       ".dataframe > thead > tr,\n",
       ".dataframe > tbody > tr {\n",
       "  text-align: right;\n",
       "  white-space: pre-wrap;\n",
       "}\n",
       "</style>\n",
       "<small>shape: (181_618_682, 6)</small><table border=\"1\" class=\"dataframe\"><thead><tr><th>pixel_x</th><th>pixel_y</th><th>trigger_index</th><th>pulse_time</th><th>pulse_width</th><th>pulse_intensity</th></tr><tr><td>u32</td><td>u32</td><td>u16</td><td>u16</td><td>u8</td><td>u16</td></tr></thead><tbody><tr><td>0</td><td>0</td><td>1</td><td>7237</td><td>2</td><td>1484</td></tr><tr><td>0</td><td>0</td><td>1</td><td>8132</td><td>3</td><td>4492</td></tr><tr><td>0</td><td>0</td><td>1</td><td>12392</td><td>2</td><td>2121</td></tr><tr><td>0</td><td>0</td><td>2</td><td>3127</td><td>2</td><td>2736</td></tr><tr><td>0</td><td>0</td><td>2</td><td>10747</td><td>2</td><td>4055</td></tr><tr><td>&hellip;</td><td>&hellip;</td><td>&hellip;</td><td>&hellip;</td><td>&hellip;</td><td>&hellip;</td></tr><tr><td>1023</td><td>1023</td><td>92</td><td>5544</td><td>4</td><td>10588</td></tr><tr><td>1023</td><td>1023</td><td>93</td><td>3025</td><td>4</td><td>7238</td></tr><tr><td>1023</td><td>1023</td><td>93</td><td>3035</td><td>3</td><td>7467</td></tr><tr><td>1023</td><td>1023</td><td>94</td><td>11356</td><td>3</td><td>4797</td></tr><tr><td>1023</td><td>1023</td><td>98</td><td>4683</td><td>3</td><td>9277</td></tr></tbody></table></div>"
      ],
      "text/plain": [
       "shape: (181_618_682, 6)\n",
       "┌─────────┬─────────┬───────────────┬────────────┬─────────────┬─────────────────┐\n",
       "│ pixel_x ┆ pixel_y ┆ trigger_index ┆ pulse_time ┆ pulse_width ┆ pulse_intensity │\n",
       "│ ---     ┆ ---     ┆ ---           ┆ ---        ┆ ---         ┆ ---             │\n",
       "│ u32     ┆ u32     ┆ u16           ┆ u16        ┆ u8          ┆ u16             │\n",
       "╞═════════╪═════════╪═══════════════╪════════════╪═════════════╪═════════════════╡\n",
       "│ 0       ┆ 0       ┆ 1             ┆ 7237       ┆ 2           ┆ 1484            │\n",
       "│ 0       ┆ 0       ┆ 1             ┆ 8132       ┆ 3           ┆ 4492            │\n",
       "│ 0       ┆ 0       ┆ 1             ┆ 12392      ┆ 2           ┆ 2121            │\n",
       "│ 0       ┆ 0       ┆ 2             ┆ 3127       ┆ 2           ┆ 2736            │\n",
       "│ 0       ┆ 0       ┆ 2             ┆ 10747      ┆ 2           ┆ 4055            │\n",
       "│ …       ┆ …       ┆ …             ┆ …          ┆ …           ┆ …               │\n",
       "│ 1023    ┆ 1023    ┆ 92            ┆ 5544       ┆ 4           ┆ 10588           │\n",
       "│ 1023    ┆ 1023    ┆ 93            ┆ 3025       ┆ 4           ┆ 7238            │\n",
       "│ 1023    ┆ 1023    ┆ 93            ┆ 3035       ┆ 3           ┆ 7467            │\n",
       "│ 1023    ┆ 1023    ┆ 94            ┆ 11356      ┆ 3           ┆ 4797            │\n",
       "│ 1023    ┆ 1023    ┆ 98            ┆ 4683       ┆ 3           ┆ 9277            │\n",
       "└─────────┴─────────┴───────────────┴────────────┴─────────────┴─────────────────┘"
      ]
     },
     "execution_count": 3,
     "metadata": {},
     "output_type": "execute_result"
    }
   ],
   "source": [
    "f.data.collect().cast()"
   ]
  },
  {
   "cell_type": "code",
   "execution_count": 5,
   "metadata": {},
   "outputs": [],
   "source": [
    "import xarray as xr"
   ]
  },
  {
   "cell_type": "code",
   "execution_count": null,
   "metadata": {},
   "outputs": [],
   "source": [
    "xr.open_dataset(\"test.zarr\")"
   ]
  },
  {
   "cell_type": "code",
   "execution_count": null,
   "metadata": {},
   "outputs": [],
   "source": [
    "f.counts_image.coords[\"c\"].values.tolist()"
   ]
  },
  {
   "cell_type": "code",
   "execution_count": null,
   "metadata": {},
   "outputs": [],
   "source": [
    "import ngff_zarr\n",
    "\n",
    "ngff_zarr.from_ngff_zarr(\"./test2/2022-07-04_NBL_TMA2/fov-1-R13C3-counts.ome.zarr\")"
   ]
  },
  {
   "cell_type": "code",
   "execution_count": 8,
   "metadata": {},
   "outputs": [],
   "source": [
    "f.write_data(\"./data.parquet\", compression_level=20)"
   ]
  },
  {
   "cell_type": "code",
   "execution_count": 8,
   "metadata": {},
   "outputs": [],
   "source": []
  },
  {
   "cell_type": "code",
   "execution_count": 13,
   "metadata": {},
   "outputs": [],
   "source": []
  },
  {
   "cell_type": "code",
   "execution_count": 4,
   "metadata": {},
   "outputs": [
    {
     "data": {
      "text/html": [
       "<div><style>\n",
       ".dataframe > thead > tr,\n",
       ".dataframe > tbody > tr {\n",
       "  text-align: right;\n",
       "  white-space: pre-wrap;\n",
       "}\n",
       "</style>\n",
       "<small>shape: (181_618_682, 6)</small><table border=\"1\" class=\"dataframe\"><thead><tr><th>pixel_x</th><th>pixel_y</th><th>trigger_index</th><th>pulse_time</th><th>pulse_width</th><th>pulse_intensity</th></tr><tr><td>u32</td><td>u32</td><td>u16</td><td>u16</td><td>u8</td><td>u16</td></tr></thead><tbody><tr><td>0</td><td>0</td><td>1</td><td>7237</td><td>2</td><td>1484</td></tr><tr><td>0</td><td>0</td><td>1</td><td>8132</td><td>3</td><td>4492</td></tr><tr><td>0</td><td>0</td><td>1</td><td>12392</td><td>2</td><td>2121</td></tr><tr><td>0</td><td>0</td><td>2</td><td>3127</td><td>2</td><td>2736</td></tr><tr><td>0</td><td>0</td><td>2</td><td>10747</td><td>2</td><td>4055</td></tr><tr><td>&hellip;</td><td>&hellip;</td><td>&hellip;</td><td>&hellip;</td><td>&hellip;</td><td>&hellip;</td></tr><tr><td>1023</td><td>1023</td><td>92</td><td>5544</td><td>4</td><td>10588</td></tr><tr><td>1023</td><td>1023</td><td>93</td><td>3025</td><td>4</td><td>7238</td></tr><tr><td>1023</td><td>1023</td><td>93</td><td>3035</td><td>3</td><td>7467</td></tr><tr><td>1023</td><td>1023</td><td>94</td><td>11356</td><td>3</td><td>4797</td></tr><tr><td>1023</td><td>1023</td><td>98</td><td>4683</td><td>3</td><td>9277</td></tr></tbody></table></div>"
      ],
      "text/plain": [
       "shape: (181_618_682, 6)\n",
       "┌─────────┬─────────┬───────────────┬────────────┬─────────────┬─────────────────┐\n",
       "│ pixel_x ┆ pixel_y ┆ trigger_index ┆ pulse_time ┆ pulse_width ┆ pulse_intensity │\n",
       "│ ---     ┆ ---     ┆ ---           ┆ ---        ┆ ---         ┆ ---             │\n",
       "│ u32     ┆ u32     ┆ u16           ┆ u16        ┆ u8          ┆ u16             │\n",
       "╞═════════╪═════════╪═══════════════╪════════════╪═════════════╪═════════════════╡\n",
       "│ 0       ┆ 0       ┆ 1             ┆ 7237       ┆ 2           ┆ 1484            │\n",
       "│ 0       ┆ 0       ┆ 1             ┆ 8132       ┆ 3           ┆ 4492            │\n",
       "│ 0       ┆ 0       ┆ 1             ┆ 12392      ┆ 2           ┆ 2121            │\n",
       "│ 0       ┆ 0       ┆ 2             ┆ 3127       ┆ 2           ┆ 2736            │\n",
       "│ 0       ┆ 0       ┆ 2             ┆ 10747      ┆ 2           ┆ 4055            │\n",
       "│ …       ┆ …       ┆ …             ┆ …          ┆ …           ┆ …               │\n",
       "│ 1023    ┆ 1023    ┆ 92            ┆ 5544       ┆ 4           ┆ 10588           │\n",
       "│ 1023    ┆ 1023    ┆ 93            ┆ 3025       ┆ 4           ┆ 7238            │\n",
       "│ 1023    ┆ 1023    ┆ 93            ┆ 3035       ┆ 3           ┆ 7467            │\n",
       "│ 1023    ┆ 1023    ┆ 94            ┆ 11356      ┆ 3           ┆ 4797            │\n",
       "│ 1023    ┆ 1023    ┆ 98            ┆ 4683       ┆ 3           ┆ 9277            │\n",
       "└─────────┴─────────┴───────────────┴────────────┴─────────────┴─────────────────┘"
      ]
     },
     "execution_count": 4,
     "metadata": {},
     "output_type": "execute_result"
    }
   ],
   "source": [
    "f.data.collect().with_columns()"
   ]
  },
  {
   "cell_type": "code",
   "execution_count": null,
   "metadata": {},
   "outputs": [],
   "source": [
    "f.write_data(\"./data.parquet\")"
   ]
  }
 ],
 "metadata": {
  "kernelspec": {
   "display_name": ".venv",
   "language": "python",
   "name": "python3"
  },
  "language_info": {
   "codemirror_mode": {
    "name": "ipython",
    "version": 3
   },
   "file_extension": ".py",
   "mimetype": "text/x-python",
   "name": "python",
   "nbconvert_exporter": "python",
   "pygments_lexer": "ipython3",
   "version": "3.12.5"
  }
 },
 "nbformat": 4,
 "nbformat_minor": 2
}
